{
 "nbformat": 4,
 "nbformat_minor": 0,
 "metadata": {
  "colab": {
   "name": "sinling.ipynb",
   "provenance": [],
   "collapsed_sections": [],
   "authorship_tag": "ABX9TyNgAO0mpwMh2c3LJoxgVV/6"
  },
  "kernelspec": {
   "name": "python3",
   "display_name": "Python 3"
  },
  "pycharm": {
   "stem_cell": {
    "cell_type": "raw",
    "source": [],
    "metadata": {
     "collapsed": false
    }
   }
  }
 },
 "cells": [
  {
   "cell_type": "code",
   "metadata": {
    "id": "CswXe2IEM0eP",
    "executionInfo": {
     "status": "ok",
     "timestamp": 1604208325778,
     "user_tz": 240,
     "elapsed": 3533,
     "user": {
      "displayName": "Yasas Senarath",
      "photoUrl": "",
      "userId": "14973809477224735657"
     }
    },
    "outputId": "12780494-6183-43ae-cdbf-643fcaf72023",
    "colab": {
     "base_uri": "https://localhost:8080/"
    },
    "pycharm": {
     "is_executing": false
    }
   },
   "source": [
    "!pip install sinling --upgrade"
   ],
   "execution_count": 1,
   "outputs": [
    {
     "name": "stdout",
     "text": [
      "Collecting sinling\r\n",
      "\u001b[?25l  Downloading https://files.pythonhosted.org/packages/c6/08/01ae5aad2346d52a10962db07bc599500b9d6e6676713a55cbad1675d6cd/sinling-0.3.4-py3-none-any.whl (20.0MB)\r\n",
      "\u001b[K    100% |████████████████████████████████| 20.0MB 1.3MB/s ta 0:00:011\r\n",
      "\u001b[?25hRequirement already satisfied, skipping upgrade: joblib in /Users/yasas/Documents/Projects/ysenarath/sinling/venv/lib/python3.7/site-packages (from sinling) (0.16.0)\r\n",
      "Requirement already satisfied, skipping upgrade: emoji in /Users/yasas/Documents/Projects/ysenarath/sinling/venv/lib/python3.7/site-packages (from sinling) (0.6.0)\r\n",
      "Requirement already satisfied, skipping upgrade: sklearn-crfsuite in /Users/yasas/Documents/Projects/ysenarath/sinling/venv/lib/python3.7/site-packages (from sinling) (0.3.6)\r\n",
      "Requirement already satisfied, skipping upgrade: pygtrie in /Users/yasas/Documents/Projects/ysenarath/sinling/venv/lib/python3.7/site-packages (from sinling) (2.3.3)\r\n",
      "Requirement already satisfied, skipping upgrade: six in /Users/yasas/Documents/Projects/ysenarath/sinling/venv/lib/python3.7/site-packages (from sklearn-crfsuite->sinling) (1.15.0)\r\n",
      "Requirement already satisfied, skipping upgrade: tqdm>=2.0 in /Users/yasas/Documents/Projects/ysenarath/sinling/venv/lib/python3.7/site-packages (from sklearn-crfsuite->sinling) (4.48.2)\r\n",
      "Requirement already satisfied, skipping upgrade: python-crfsuite>=0.8.3 in /Users/yasas/Documents/Projects/ysenarath/sinling/venv/lib/python3.7/site-packages (from sklearn-crfsuite->sinling) (0.9.7)\r\n",
      "Requirement already satisfied, skipping upgrade: tabulate in /Users/yasas/Documents/Projects/ysenarath/sinling/venv/lib/python3.7/site-packages (from sklearn-crfsuite->sinling) (0.8.7)\r\n",
      "Installing collected packages: sinling\r\n",
      "Successfully installed sinling-0.3.4\r\n",
      "\u001b[33mYou are using pip version 19.0.3, however version 20.3b1 is available.\r\n",
      "You should consider upgrading via the 'pip install --upgrade pip' command.\u001b[0m\r\n"
     ],
     "output_type": "stream"
    }
   ]
  },
  {
   "cell_type": "code",
   "metadata": {
    "id": "lf7_zEqBM3V1",
    "executionInfo": {
     "status": "ok",
     "timestamp": 1604208333456,
     "user_tz": 240,
     "elapsed": 801,
     "user": {
      "displayName": "Yasas Senarath",
      "photoUrl": "",
      "userId": "14973809477224735657"
     }
    },
    "outputId": "a8280ba8-823e-4c1c-a20c-2dcc36df5e3c",
    "colab": {
     "base_uri": "https://localhost:8080/"
    },
    "pycharm": {
     "is_executing": false
    }
   },
   "source": [
    "from sinling.sinhala.tokenizer import SinhalaTweetTokenizer\n",
    "\n",
    "if __name__ == '__main__':\n",
    "    docs = ['ශ්‍රී දළදා මාලිගාව බුදුරජාණන් වහන්සේගේ දන්තධාතූන් අතරින් ශ්‍රී ලංකාවේ ඇති දන්තධාතූන් වහන්සේ වර්තමානයේ තැන්පත් කර ඇති දළදා මාලිගාවයි. මෙය ශ්‍රී ලංකාවේ මහනුවර නගරයේ පිහිටා ඇත.']\n",
    "    tokenizer = SinhalaTweetTokenizer()\n",
    "    # tokenizer = SinhalaTokenizer()\n",
    "    for doc in docs:\n",
    "        for sent in tokenizer.split_sentences(doc):\n",
    "            print(tokenizer.tokenize(sent))"
   ],
   "execution_count": 2,
   "outputs": [
    {
     "name": "stdout",
     "text": [
      "['ශ්\\u200dරී', 'දළදා', 'මාලිගාව', 'බුදුරජාණන්', 'වහන්සේගේ', 'දන්තධාතූන්', 'අතරින්', 'ශ්\\u200dරී', 'ලංකාවේ', 'ඇති', 'දන්තධාතූන්', 'වහන්සේ', 'වර්තමානයේ', 'තැන්පත්', 'කර', 'ඇති', 'දළදා', 'මාලිගාවයි.', 'මෙය', 'ශ්\\u200dරී', 'ලංකාවේ', 'මහනුවර', 'නගරයේ', 'පිහිටා', 'ඇත']\n"
     ],
     "output_type": "stream"
    }
   ]
  },
  {
   "cell_type": "code",
   "metadata": {
    "id": "DDKPpi8mM-Cf",
    "executionInfo": {
     "status": "ok",
     "timestamp": 1604208335090,
     "user_tz": 240,
     "elapsed": 879,
     "user": {
      "displayName": "Yasas Senarath",
      "photoUrl": "",
      "userId": "14973809477224735657"
     }
    },
    "outputId": "5d6adf98-e11f-44e1-eeb1-22e06a8a4057",
    "colab": {
     "base_uri": "https://localhost:8080/"
    },
    "pycharm": {
     "is_executing": false
    }
   },
   "source": [
    "from sinling import SinhalaTokenizer, POSTagger\n",
    "\n",
    "tokenizer = SinhalaTokenizer()\n",
    "\n",
    "document = 'මමත් රජයේ විශ්ව විද්‍යාලයකට තමා ගියේ, හැබැයි මම නම් හැමදාම කැම්පස් එකේ CCTV සවි කරන එක හොඳයි'  # may contain multiple sentences\n",
    "\n",
    "tokenized_sentences = [tokenizer.tokenize(f'{ss}.') for ss in tokenizer.split_sentences(document)]\n",
    "\n",
    "tagger = POSTagger()\n",
    "\n",
    "pos_tags = tagger.predict(tokenized_sentences)\n",
    "\n",
    "pos_tags"
   ],
   "execution_count": 3,
   "outputs": [
    {
     "data": {
      "text/plain": "[[('මමත්', 'JJ'),\n  ('රජයේ', 'NNC'),\n  ('විශ්ව', 'JJ'),\n  ('විද්\\u200dයාලයකට', 'NNC'),\n  ('තමා', 'PRP'),\n  ('ගියේ', 'VP'),\n  (',', 'PUNC'),\n  ('හැබැයි', 'NNC'),\n  ('මම', 'PRP'),\n  ('නම්', 'POST'),\n  ('හැමදාම', 'NNC'),\n  ('කැම්පස්', 'NNP'),\n  ('එකේ', 'NUM'),\n  ('CCTV', 'NNC'),\n  ('සවි', 'RRPCV'),\n  ('කරන', 'VP'),\n  ('එක', 'NUM'),\n  ('හොඳයි', 'NNC'),\n  ('.', 'FS')]]"
     },
     "metadata": {},
     "output_type": "execute_result",
     "execution_count": 3
    }
   ]
  },
  {
   "cell_type": "code",
   "metadata": {
    "id": "zH7cReROOt29",
    "executionInfo": {
     "status": "ok",
     "timestamp": 1604208336624,
     "user_tz": 240,
     "elapsed": 925,
     "user": {
      "displayName": "Yasas Senarath",
      "photoUrl": "",
      "userId": "14973809477224735657"
     }
    },
    "outputId": "c7b0bd60-7a02-48d2-9902-051f80432764",
    "colab": {
     "base_uri": "https://localhost:8080/"
    },
    "pycharm": {
     "is_executing": false
    }
   },
   "source": [
    "from sinling import preprocess, word_joiner\n",
    "\n",
    "w1 = preprocess('මුනි')\n",
    "w2 = preprocess('උතුමා')\n",
    "results = word_joiner.join(w1, w2)\n",
    "# Returns a list of possible results after applying join rules ['මුනිතුමා', ...]\n",
    "\n",
    "results"
   ],
   "execution_count": 4,
   "outputs": [
    {
     "data": {
      "text/plain": "['මුනුතුමා',\n 'මුනිතුමා',\n 'මුනිනතුමා',\n 'මුනිවුතුමා',\n 'මුනියුතුමා',\n 'මුනිරුතුමා',\n 'මුන්නුතුමා',\n 'මුනිොතුමා',\n 'මුනිෝතුමා',\n 'මුන්\\u200dයුතුමා']"
     },
     "metadata": {},
     "output_type": "execute_result",
     "execution_count": 4
    }
   ]
  },
  {
   "cell_type": "code",
   "metadata": {
    "id": "Sc04pfGBOyn0",
    "executionInfo": {
     "status": "ok",
     "timestamp": 1604208339388,
     "user_tz": 240,
     "elapsed": 2170,
     "user": {
      "displayName": "Yasas Senarath",
      "photoUrl": "",
      "userId": "14973809477224735657"
     }
    },
    "outputId": "70183107-f948-4361-88e4-c649cd1b9f0c",
    "colab": {
     "base_uri": "https://localhost:8080/"
    },
    "pycharm": {
     "is_executing": false
    }
   },
   "source": [
    "from sinling import word_splitter\n",
    "\n",
    "word = 'හොඳයි'\n",
    "results = word_splitter.split(word)\n",
    "# Returns a dict containing debug information, base word and affix\n",
    "\n",
    "results"
   ],
   "execution_count": 5,
   "outputs": [
    {
     "data": {
      "text/plain": "{'debug': [['හ', 'ොඳයි', 27.841807909604523],\n  ['හො', 'ඳයි', 96.33466135458167],\n  ['හොඳ', 'යි', 36214.60977416788],\n  ['හොඳය', 'ි', 550.7488852208618]],\n 'base': 'හොඳ',\n 'affix': 'යි'}"
     },
     "metadata": {},
     "output_type": "execute_result",
     "execution_count": 5
    }
   ]
  },
  {
   "cell_type": "code",
   "metadata": {
    "id": "FPmIr6wpOp0z",
    "executionInfo": {
     "status": "ok",
     "timestamp": 1604208340523,
     "user_tz": 240,
     "elapsed": 713,
     "user": {
      "displayName": "Yasas Senarath",
      "photoUrl": "",
      "userId": "14973809477224735657"
     }
    },
    "outputId": "ab5a9cfb-b1d1-40af-c46f-ea2f94e6c265",
    "colab": {
     "base_uri": "https://localhost:8080/"
    },
    "pycharm": {
     "is_executing": false
    }
   },
   "source": [
    "from sinling import SinhalaStemmer\n",
    "\n",
    "stemmer = SinhalaStemmer()\n",
    "\n",
    "word = 'හොඳයි'  # your sentence\n",
    "\n",
    "stemmer.stem(word)"
   ],
   "execution_count": 6,
   "outputs": [
    {
     "data": {
      "text/plain": "('හොඳ', 'යි')"
     },
     "metadata": {},
     "output_type": "execute_result",
     "execution_count": 6
    }
   ]
  },
  {
   "cell_type": "code",
   "metadata": {
    "id": "8rpnoO98PKPC"
   },
   "source": [
    ""
   ],
   "execution_count": null,
   "outputs": []
  }
 ]
}